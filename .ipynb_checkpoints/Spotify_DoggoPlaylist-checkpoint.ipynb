{
 "cells": [
  {
   "cell_type": "code",
   "execution_count": 1,
   "id": "fb1e583a-2882-47be-b0b4-ae8713a4dd56",
   "metadata": {},
   "outputs": [],
   "source": [
    "import spotipy\n",
    "import spotipy.util as util\n",
    "import webbrowser\n",
    "import json\n",
    "import urllib.request\n",
    "from nltk.corpus import stopwords\n",
    "from nltk import pos_tag\n",
    "import requests\n",
    "import collections"
   ]
  },
  {
   "cell_type": "code",
   "execution_count": 16,
   "id": "8fe4c0bd-d17d-480e-a163-baa61248591e",
   "metadata": {},
   "outputs": [],
   "source": [
    "creditionals = \"imagga_key.json\"\n",
    "\n",
    "with open(creditionals, \"r\") as file:\n",
    "    key = json.load(file)"
   ]
  },
  {
   "cell_type": "code",
   "execution_count": 26,
   "id": "fbdf24f5-78d7-4f1d-8bda-80a4f036ab1c",
   "metadata": {},
   "outputs": [],
   "source": [
    "img_of_dog = 'https://i.pinimg.com/564x/7d/bd/a2/7dbda28b0fb3d7c0b060f3e2eb530591.jpg'\n",
    "api_key = key['api_key']\n",
    "api_secret = key['api_secret']\n",
    "\n",
    "my_dict = {\n",
    "    'api_key': '', \n",
    "    'api_secret': '',\n",
    "}\n",
    "\n",
    "my_dict[\"api_secret\"] = api_secret\n",
    "my_dict[\"api_key\"] = api_key\n",
    "\n",
    "\n",
    "response = requests.get(f'https://api.imagga.com/v2/tags?image_url={img_of_dog}',\n",
    "    auth=(api_key, api_secret))\n",
    "\n",
    "img_response = response.json()"
   ]
  },
  {
   "cell_type": "code",
   "execution_count": 27,
   "id": "7fa15b20-3bbc-4ffd-9237-9586eb534a7f",
   "metadata": {},
   "outputs": [
    {
     "name": "stdout",
     "output_type": "stream",
     "text": [
      "Dog breed: spaniel\n"
     ]
    }
   ],
   "source": [
    "def get_dog_breed(img_response):\n",
    "    dog_breeds = {\"spaniel\", \"beagle\", \"retriever\", \"pointer\", \"chihuahua\", \"dachshund\", \"terrier\", \"hound\", \"golden\"}\n",
    "    \n",
    "    for tag in img_response['result']['tags']:\n",
    "        breed = tag['tag']['en']\n",
    "        confidence = tag['confidence']\n",
    "       \n",
    "        if breed.lower() in dog_breeds and confidence > 30:\n",
    "            return breed\n",
    "    \n",
    "    return \"Breed not found\"\n",
    "\n",
    "breed = get_dog_breed(img_response)\n",
    "print(\"Dog breed:\", breed)"
   ]
  },
  {
   "cell_type": "code",
   "execution_count": 28,
   "id": "39416514-f2f7-4839-9ffb-0b2a38a960f5",
   "metadata": {},
   "outputs": [],
   "source": [
    "credentials = \"spotify_key.json\"\n",
    "with open(credentials, \"r\") as keys:\n",
    "    api_tokens = json.load(keys)"
   ]
  },
  {
   "cell_type": "code",
   "execution_count": 29,
   "id": "92455137-92ca-4365-83e7-d41c3a82c99b",
   "metadata": {},
   "outputs": [
    {
     "data": {
      "text/plain": [
       "{'username': '31tx5iw4t3p73j2mjjc654rx37py',\n",
       " 'client_id': '7989ce71ea6c47188923f95f8fd5afa9',\n",
       " 'client_secret': '1c9201d4b9fa478aa0c575467576c046',\n",
       " 'redirect': 'http://google.com/'}"
      ]
     },
     "execution_count": 29,
     "metadata": {},
     "output_type": "execute_result"
    }
   ],
   "source": [
    "api_tokens"
   ]
  },
  {
   "cell_type": "code",
   "execution_count": 30,
   "id": "608fa85a-6b32-47af-ba87-f6f3af676b46",
   "metadata": {},
   "outputs": [],
   "source": [
    "client_id = api_tokens[\"client_id\"]\n",
    "client_secret = api_tokens[\"client_secret\"]\n",
    "redirectURI = api_tokens[\"redirect\"]\n",
    "username = api_tokens[\"username\"]"
   ]
  },
  {
   "cell_type": "code",
   "execution_count": 31,
   "id": "97dd2544-707f-4a8f-a090-6f26b47f7292",
   "metadata": {},
   "outputs": [
    {
     "name": "stdin",
     "output_type": "stream",
     "text": [
      "Enter the URL you were redirected to:  https://www.google.com/?code=AQDWtKDJQ0Q__NKkEQKjOVwaSExx9_eHWZMACQbhSVIHSZkRsNrX8ZG-gZV09OXEWgRz3eqgl1h7lyI0sTZ0HmGrsPwAiZ5EkdDyMYLIVnTBSpIch7r7__pRoybjtzhXTxoC9n92CFvRwVBPNOc7aqzzy84U44DEFB_76qeNAv_9Y-5QtfK-AvIfcVfvhe833i5_F-BAFINrgOfX47aBZnIiwRPfHTkZf55kWPtLy_ZILwHTthhTG6F7xQHoW14hAXhN-8NcLx3_wzb2GusDZimigtyJwgPBKHg7zfUDfirTTA_7ZdF05W2V\n"
     ]
    }
   ],
   "source": [
    "scope = 'user-read-private user-read-playback-state user-modify-playback-state playlist-modify-public user-library-read'\n",
    "token = util.prompt_for_user_token(username, scope, client_id=client_id,\n",
    "                           client_secret=client_secret,\n",
    "                           redirect_uri=redirectURI)"
   ]
  },
  {
   "cell_type": "code",
   "execution_count": 32,
   "id": "a0a0c1e8-9291-4c56-8019-a46e8059c307",
   "metadata": {},
   "outputs": [
    {
     "data": {
      "text/plain": [
       "'BQDd-kH94pAlnELphnRntjx0i982VVLdobjFJGwCQz5OSZ0kOfZQVL92XaTlLeUn0LOfENXmxJezPOMvuSW88jat9BbnPLVwvcA1rPNpALI-fbBy2dF49TXopd28vuPPHju7BIdONp5Q_5-HZnxmhTSlLuuly9Mx618gOVhizAD5U-3pC4kPf9nJ9bNRJuYhvXHjA3FUyKo7_lUpLSp7rhV6cub9cBIWN43ShfUHY-s8jyteKf3laIff0lpkdBUUG5B6_iq8wA'"
      ]
     },
     "execution_count": 32,
     "metadata": {},
     "output_type": "execute_result"
    }
   ],
   "source": [
    "token"
   ]
  },
  {
   "cell_type": "code",
   "execution_count": 33,
   "id": "276ff34c-fd96-4315-942e-3db5e8096287",
   "metadata": {},
   "outputs": [],
   "source": [
    "sp = spotipy.Spotify(auth=token)"
   ]
  },
  {
   "cell_type": "code",
   "execution_count": null,
   "id": "1edeea59-9dd7-4ab9-82fd-7634d8ae29f4",
   "metadata": {},
   "outputs": [],
   "source": [
    "doggo_playlist = []\n",
    "for breed.lower() in dog_breeds:\n",
    "    if confidence > 3:\n",
    "        searchResults = sp.search(q=\"artist:\" + keyword, type=\"track\", limit=1)\n",
    "        # if the search returns anything\n",
    "        if len(searchResults['tracks']['items']) > 0:\n",
    "            songs_for_playlist.append(searchResults['tracks']['items'][0]['uri'])\n",
    "    \n",
    "print(songs_for_playlist)"
   ]
  }
 ],
 "metadata": {
  "kernelspec": {
   "display_name": "Python 3 (ipykernel)",
   "language": "python",
   "name": "python3"
  },
  "language_info": {
   "codemirror_mode": {
    "name": "ipython",
    "version": 3
   },
   "file_extension": ".py",
   "mimetype": "text/x-python",
   "name": "python",
   "nbconvert_exporter": "python",
   "pygments_lexer": "ipython3",
   "version": "3.12.7"
  }
 },
 "nbformat": 4,
 "nbformat_minor": 5
}
