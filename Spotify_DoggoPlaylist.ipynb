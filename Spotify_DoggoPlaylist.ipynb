{
 "cells": [
  {
   "cell_type": "code",
   "execution_count": 102,
   "id": "fb1e583a-2882-47be-b0b4-ae8713a4dd56",
   "metadata": {},
   "outputs": [],
   "source": [
    "import spotipy\n",
    "import spotipy.util as util\n",
    "import webbrowser\n",
    "import json\n",
    "import urllib.request\n",
    "from nltk.corpus import stopwords\n",
    "from nltk import pos_tag\n",
    "import requests\n",
    "import collections"
   ]
  },
  {
   "cell_type": "code",
   "execution_count": 103,
   "id": "f647075d-2e48-4ded-a193-e5b1d386cdab",
   "metadata": {},
   "outputs": [],
   "source": [
    "from urllib.request import urlopen \n",
    "import base64"
   ]
  },
  {
   "cell_type": "code",
   "execution_count": 104,
   "id": "3fe170e4-e844-4f1d-9455-dedeea679552",
   "metadata": {},
   "outputs": [],
   "source": [
    "import spotipy\n",
    "from spotipy.oauth2 import SpotifyOAuth"
   ]
  },
  {
   "cell_type": "code",
   "execution_count": 105,
   "id": "32a86bf5-710c-40f2-ac8d-71561f05faca",
   "metadata": {},
   "outputs": [],
   "source": [
    "with open(\"dogapi_key.txt\", \"r\") as file:\n",
    "    dogkey = file.read()"
   ]
  },
  {
   "cell_type": "code",
   "execution_count": 106,
   "id": "d7aec028-f04f-4099-a1bb-429a815b9af1",
   "metadata": {},
   "outputs": [
    {
     "name": "stdout",
     "output_type": "stream",
     "text": [
      "{'message': {'affenpinscher': [], 'african': [], 'airedale': [], 'akita': [], 'appenzeller': [], 'australian': ['kelpie', 'shepherd'], 'bakharwal': ['indian'], 'basenji': [], 'beagle': [], 'bluetick': [], 'borzoi': [], 'bouvier': [], 'boxer': [], 'brabancon': [], 'briard': [], 'buhund': ['norwegian'], 'bulldog': ['boston', 'english', 'french'], 'bullterrier': ['staffordshire'], 'cattledog': ['australian'], 'cavapoo': [], 'chihuahua': [], 'chippiparai': ['indian'], 'chow': [], 'clumber': [], 'cockapoo': [], 'collie': ['border'], 'coonhound': [], 'corgi': ['cardigan'], 'cotondetulear': [], 'dachshund': [], 'dalmatian': [], 'dane': ['great'], 'danish': ['swedish'], 'deerhound': ['scottish'], 'dhole': [], 'dingo': [], 'doberman': [], 'elkhound': ['norwegian'], 'entlebucher': [], 'eskimo': [], 'finnish': ['lapphund'], 'frise': ['bichon'], 'gaddi': ['indian'], 'germanshepherd': [], 'greyhound': ['indian', 'italian'], 'groenendael': [], 'havanese': [], 'hound': ['afghan', 'basset', 'blood', 'english', 'ibizan', 'plott', 'walker'], 'husky': [], 'keeshond': [], 'kelpie': [], 'kombai': [], 'komondor': [], 'kuvasz': [], 'labradoodle': [], 'labrador': [], 'leonberg': [], 'lhasa': [], 'malamute': [], 'malinois': [], 'maltese': [], 'mastiff': ['bull', 'english', 'indian', 'tibetan'], 'mexicanhairless': [], 'mix': [], 'mountain': ['bernese', 'swiss'], 'mudhol': ['indian'], 'newfoundland': [], 'otterhound': [], 'ovcharka': ['caucasian'], 'papillon': [], 'pariah': ['indian'], 'pekinese': [], 'pembroke': [], 'pinscher': ['miniature'], 'pitbull': [], 'pointer': ['german', 'germanlonghair'], 'pomeranian': [], 'poodle': ['medium', 'miniature', 'standard', 'toy'], 'pug': [], 'puggle': [], 'pyrenees': [], 'rajapalayam': ['indian'], 'redbone': [], 'retriever': ['chesapeake', 'curly', 'flatcoated', 'golden'], 'ridgeback': ['rhodesian'], 'rottweiler': [], 'saluki': [], 'samoyed': [], 'schipperke': [], 'schnauzer': ['giant', 'miniature'], 'segugio': ['italian'], 'setter': ['english', 'gordon', 'irish'], 'sharpei': [], 'sheepdog': ['english', 'indian', 'shetland'], 'shiba': [], 'shihtzu': [], 'spaniel': ['blenheim', 'brittany', 'cocker', 'irish', 'japanese', 'sussex', 'welsh'], 'spitz': ['indian', 'japanese'], 'springer': ['english'], 'stbernard': [], 'terrier': ['american', 'australian', 'bedlington', 'border', 'cairn', 'dandie', 'fox', 'irish', 'kerryblue', 'lakeland', 'norfolk', 'norwich', 'patterdale', 'russell', 'scottish', 'sealyham', 'silky', 'tibetan', 'toy', 'welsh', 'westhighland', 'wheaten', 'yorkshire'], 'tervuren': [], 'vizsla': [], 'waterdog': ['spanish'], 'weimaraner': [], 'whippet': [], 'wolfhound': ['irish']}, 'status': 'success'}\n"
     ]
    }
   ],
   "source": [
    "url = \"https://dog.ceo/api/breeds/list/all\"\n",
    "response = requests.get(url)\n",
    "if response.status_code == 200:\n",
    "    all_breeds = response.json()\n",
    "    print (all_breeds)\n",
    "\n",
    "else:\n",
    "    print(\"Failed to retrieve breed\")"
   ]
  },
  {
   "cell_type": "code",
   "execution_count": 107,
   "id": "22145a14-78f5-4ac4-99a8-9091e8f5fb8f",
   "metadata": {},
   "outputs": [
    {
     "data": {
      "text/plain": [
       "dict_keys(['affenpinscher', 'african', 'airedale', 'akita', 'appenzeller', 'australian', 'bakharwal', 'basenji', 'beagle', 'bluetick', 'borzoi', 'bouvier', 'boxer', 'brabancon', 'briard', 'buhund', 'bulldog', 'bullterrier', 'cattledog', 'cavapoo', 'chihuahua', 'chippiparai', 'chow', 'clumber', 'cockapoo', 'collie', 'coonhound', 'corgi', 'cotondetulear', 'dachshund', 'dalmatian', 'dane', 'danish', 'deerhound', 'dhole', 'dingo', 'doberman', 'elkhound', 'entlebucher', 'eskimo', 'finnish', 'frise', 'gaddi', 'germanshepherd', 'greyhound', 'groenendael', 'havanese', 'hound', 'husky', 'keeshond', 'kelpie', 'kombai', 'komondor', 'kuvasz', 'labradoodle', 'labrador', 'leonberg', 'lhasa', 'malamute', 'malinois', 'maltese', 'mastiff', 'mexicanhairless', 'mix', 'mountain', 'mudhol', 'newfoundland', 'otterhound', 'ovcharka', 'papillon', 'pariah', 'pekinese', 'pembroke', 'pinscher', 'pitbull', 'pointer', 'pomeranian', 'poodle', 'pug', 'puggle', 'pyrenees', 'rajapalayam', 'redbone', 'retriever', 'ridgeback', 'rottweiler', 'saluki', 'samoyed', 'schipperke', 'schnauzer', 'segugio', 'setter', 'sharpei', 'sheepdog', 'shiba', 'shihtzu', 'spaniel', 'spitz', 'springer', 'stbernard', 'terrier', 'tervuren', 'vizsla', 'waterdog', 'weimaraner', 'whippet', 'wolfhound'])"
      ]
     },
     "execution_count": 107,
     "metadata": {},
     "output_type": "execute_result"
    }
   ],
   "source": [
    "all_breeds['message'].keys()"
   ]
  },
  {
   "cell_type": "code",
   "execution_count": 108,
   "id": "8fe4c0bd-d17d-480e-a163-baa61248591e",
   "metadata": {},
   "outputs": [],
   "source": [
    "creditionals = \"imagga_key.json\"\n",
    "\n",
    "with open(creditionals, \"r\") as file:\n",
    "    key = json.load(file)"
   ]
  },
  {
   "cell_type": "code",
   "execution_count": 76,
   "id": "fbdf24f5-78d7-4f1d-8bda-80a4f036ab1c",
   "metadata": {},
   "outputs": [
    {
     "data": {
      "text/plain": [
       "{'result': {'tags': [{'confidence': 100, 'tag': {'en': 'tennis ball'}},\n",
       "   {'confidence': 100, 'tag': {'en': 'ball'}},\n",
       "   {'confidence': 100, 'tag': {'en': 'dog'}},\n",
       "   {'confidence': 78.8544540405273, 'tag': {'en': 'game equipment'}},\n",
       "   {'confidence': 65.1570816040039, 'tag': {'en': 'pet'}},\n",
       "   {'confidence': 62.2454223632812, 'tag': {'en': 'canine'}},\n",
       "   {'confidence': 46.2403717041016, 'tag': {'en': 'puppy'}},\n",
       "   {'confidence': 45.7128639221191, 'tag': {'en': 'equipment'}},\n",
       "   {'confidence': 39.6041793823242, 'tag': {'en': 'breed'}},\n",
       "   {'confidence': 39.3422431945801, 'tag': {'en': 'hunting dog'}},\n",
       "   {'confidence': 38.7174301147461, 'tag': {'en': 'cute'}},\n",
       "   {'confidence': 38.4035568237305, 'tag': {'en': 'terrier'}},\n",
       "   {'confidence': 34.3314476013184, 'tag': {'en': 'domestic'}},\n",
       "   {'confidence': 30.0583724975586, 'tag': {'en': 'purebred'}},\n",
       "   {'confidence': 28.5920581817627, 'tag': {'en': 'adorable'}},\n",
       "   {'confidence': 27.799072265625, 'tag': {'en': 'pets'}},\n",
       "   {'confidence': 27.6020221710205, 'tag': {'en': 'friend'}},\n",
       "   {'confidence': 26.4502944946289, 'tag': {'en': 'doggy'}},\n",
       "   {'confidence': 25.8276042938232, 'tag': {'en': 'black'}},\n",
       "   {'confidence': 25.7461547851562, 'tag': {'en': 'brown'}},\n",
       "   {'confidence': 23.9366474151611, 'tag': {'en': 'spaniel'}},\n",
       "   {'confidence': 22.6559276580811, 'tag': {'en': 'hound'}},\n",
       "   {'confidence': 22.4379005432129, 'tag': {'en': 'pedigree'}},\n",
       "   {'confidence': 21.6006946563721, 'tag': {'en': 'dogs'}},\n",
       "   {'confidence': 21.3505554199219, 'tag': {'en': 'fur'}},\n",
       "   {'confidence': 20.6961212158203, 'tag': {'en': 'portrait'}},\n",
       "   {'confidence': 16.7050857543945, 'tag': {'en': 'pup'}},\n",
       "   {'confidence': 16.1976528167725, 'tag': {'en': 'nose'}},\n",
       "   {'confidence': 16.1430511474609, 'tag': {'en': 'springer spaniel'}},\n",
       "   {'confidence': 15.7333545684814, 'tag': {'en': 'animals'}},\n",
       "   {'confidence': 15.1858263015747, 'tag': {'en': 'studio'}},\n",
       "   {'confidence': 14.6984548568726, 'tag': {'en': 'pedigreed'}},\n",
       "   {'confidence': 14.6422204971313, 'tag': {'en': 'play'}},\n",
       "   {'confidence': 14.6403617858887, 'tag': {'en': 'hairy'}},\n",
       "   {'confidence': 14.4569501876831, 'tag': {'en': 'furry'}},\n",
       "   {'confidence': 14.3861923217773, 'tag': {'en': 'looking'}},\n",
       "   {'confidence': 13.7466592788696, 'tag': {'en': 'attentive'}},\n",
       "   {'confidence': 13.494743347168, 'tag': {'en': 'run'}},\n",
       "   {'confidence': 12.6745376586914, 'tag': {'en': 'hair'}},\n",
       "   {'confidence': 12.6361846923828, 'tag': {'en': 'sweet'}},\n",
       "   {'confidence': 12.5271673202515, 'tag': {'en': 'happy'}},\n",
       "   {'confidence': 12.3651599884033, 'tag': {'en': 'retriever'}},\n",
       "   {'confidence': 11.9270372390747, 'tag': {'en': 'funny'}},\n",
       "   {'confidence': 11.8485164642334, 'tag': {'en': 'grass'}},\n",
       "   {'confidence': 11.7410945892334, 'tag': {'en': 'hunt'}},\n",
       "   {'confidence': 11.7133054733276, 'tag': {'en': 'hunting'}},\n",
       "   {'confidence': 11.3745450973511, 'tag': {'en': 'look'}},\n",
       "   {'confidence': 10.9428062438965, 'tag': {'en': 'mammal'}},\n",
       "   {'confidence': 10.9395370483398, 'tag': {'en': 'playing'}},\n",
       "   {'confidence': 10.8003997802734, 'tag': {'en': 'grooming'}},\n",
       "   {'confidence': 10.7894048690796, 'tag': {'en': 'companion'}},\n",
       "   {'confidence': 10.673436164856, 'tag': {'en': 'curious'}},\n",
       "   {'confidence': 10.6101427078247, 'tag': {'en': 'ears'}},\n",
       "   {'confidence': 10.3190298080444, 'tag': {'en': 'eyes'}},\n",
       "   {'confidence': 10.1921672821045, 'tag': {'en': 'action'}},\n",
       "   {'confidence': 9.77497005462646, 'tag': {'en': 'paw'}},\n",
       "   {'confidence': 9.54630661010742, 'tag': {'en': 'race'}},\n",
       "   {'confidence': 9.4406270980835, 'tag': {'en': 'sitting'}},\n",
       "   {'confidence': 9.37979316711426, 'tag': {'en': 'domestic animal'}},\n",
       "   {'confidence': 9.35822582244873, 'tag': {'en': 'sporting dog'}},\n",
       "   {'confidence': 8.97644519805908, 'tag': {'en': 'fun'}},\n",
       "   {'confidence': 8.89362335205078, 'tag': {'en': 'doggies'}},\n",
       "   {'confidence': 8.82727527618408, 'tag': {'en': 'little'}},\n",
       "   {'confidence': 8.60713005065918, 'tag': {'en': 'fluffy'}},\n",
       "   {'confidence': 8.55371475219727, 'tag': {'en': 'outside'}},\n",
       "   {'confidence': 8.45373249053955, 'tag': {'en': 'mouth'}},\n",
       "   {'confidence': 8.08345222473145, 'tag': {'en': 'active'}},\n",
       "   {'confidence': 8.05613422393799, 'tag': {'en': 'activity'}},\n",
       "   {'confidence': 7.90930414199829, 'tag': {'en': 'pointer'}},\n",
       "   {'confidence': 7.90115070343018, 'tag': {'en': 'canines'}},\n",
       "   {'confidence': 7.87474966049194, 'tag': {'en': 'domestic animals'}},\n",
       "   {'confidence': 7.85386991500854, 'tag': {'en': 'snout'}},\n",
       "   {'confidence': 7.67666339874268, 'tag': {'en': 'jump'}},\n",
       "   {'confidence': 7.66735363006592, 'tag': {'en': 'collar'}},\n",
       "   {'confidence': 7.47370481491089, 'tag': {'en': 'fast'}},\n",
       "   {'confidence': 7.12664556503296, 'tag': {'en': 'game'}}]},\n",
       " 'status': {'text': '', 'type': 'success'}}"
      ]
     },
     "execution_count": 76,
     "metadata": {},
     "output_type": "execute_result"
    }
   ],
   "source": [
    "img_of_dog = 'https://i.pinimg.com/564x/f7/4f/28/f74f28072fcd74074bd74c2f127d323b.jpg'\n",
    "api_key = key['api_key']\n",
    "api_secret = key['api_secret']\n",
    "\n",
    "my_dict = {\n",
    "    'api_key': '', \n",
    "    'api_secret': '',\n",
    "}\n",
    "\n",
    "my_dict[\"api_secret\"] = api_secret\n",
    "my_dict[\"api_key\"] = api_key\n",
    "\n",
    "\n",
    "response = requests.get(f'https://api.imagga.com/v2/tags?image_url={img_of_dog}',\n",
    "    auth=(api_key, api_secret))\n",
    "\n",
    "img_response = response.json()\n",
    "\n",
    "img_response"
   ]
  },
  {
   "cell_type": "code",
   "execution_count": 77,
   "id": "7fa15b20-3bbc-4ffd-9237-9586eb534a7f",
   "metadata": {},
   "outputs": [
    {
     "name": "stdout",
     "output_type": "stream",
     "text": [
      "Dog breed: terrier\n"
     ]
    }
   ],
   "source": [
    "def get_dog_breed(img_response):\n",
    "    dog_breeds = all_breeds['message'].keys() \n",
    "    \n",
    "    for tag in img_response['result']['tags']:\n",
    "        breed = tag['tag']['en']\n",
    "        confidence = tag['confidence']\n",
    "       \n",
    "        if breed in dog_breeds and confidence > 30:\n",
    "            return breed\n",
    "    \n",
    "    return \"Breed not found\"\n",
    "\n",
    "breed = get_dog_breed(img_response)\n",
    "print(\"Dog breed:\", breed)"
   ]
  },
  {
   "cell_type": "code",
   "execution_count": 78,
   "id": "39416514-f2f7-4839-9ffb-0b2a38a960f5",
   "metadata": {},
   "outputs": [],
   "source": [
    "credentials = \"spotify_key.json\"\n",
    "with open(credentials, \"r\") as keys:\n",
    "    api_tokens = json.load(keys)"
   ]
  },
  {
   "cell_type": "code",
   "execution_count": 79,
   "id": "92455137-92ca-4365-83e7-d41c3a82c99b",
   "metadata": {},
   "outputs": [
    {
     "data": {
      "text/plain": [
       "{'username': '31tx5iw4t3p73j2mjjc654rx37py',\n",
       " 'client_id': '7989ce71ea6c47188923f95f8fd5afa9',\n",
       " 'client_secret': '1c9201d4b9fa478aa0c575467576c046',\n",
       " 'redirect': 'http://google.com/'}"
      ]
     },
     "execution_count": 79,
     "metadata": {},
     "output_type": "execute_result"
    }
   ],
   "source": [
    "api_tokens"
   ]
  },
  {
   "cell_type": "code",
   "execution_count": 80,
   "id": "608fa85a-6b32-47af-ba87-f6f3af676b46",
   "metadata": {},
   "outputs": [],
   "source": [
    "client_id = api_tokens[\"client_id\"]\n",
    "client_secret = api_tokens[\"client_secret\"]\n",
    "redirectURI = api_tokens[\"redirect\"]\n",
    "username = api_tokens[\"username\"]"
   ]
  },
  {
   "cell_type": "code",
   "execution_count": 81,
   "id": "97dd2544-707f-4a8f-a090-6f26b47f7292",
   "metadata": {},
   "outputs": [],
   "source": [
    "scope = 'user-read-private user-read-playback-state user-modify-playback-state playlist-modify-public user-library-read'\n",
    "token = util.prompt_for_user_token(username, scope, client_id=client_id,\n",
    "                           client_secret=client_secret,\n",
    "                           redirect_uri=redirectURI)"
   ]
  },
  {
   "cell_type": "code",
   "execution_count": 82,
   "id": "a0a0c1e8-9291-4c56-8019-a46e8059c307",
   "metadata": {},
   "outputs": [
    {
     "data": {
      "text/plain": [
       "'BQBTRIF_IDa2hlZcfwa8KqBEjusu3moYW3eToKGMIc1GunNhESo8Y2vlDWYJ5uNZ_ZsydaZG0PR2mWS0a9W0SQpHSFVZILxtPR42OMQGZK0dGgj0Es6VtQAYgM-bT0r9X46JZlvCq4gnKt63-kRk8P8YJNTwugI-6aADcnPhVyX0NYqXMlYtVhzUgH2cpPiJclGu9p-TGMsbLNqI_kQ4jbvUgCjVHPUxPERYgBU3601vCj1ltIEo1pGxy1R9uiVZfDZYYQvoxpLc'"
      ]
     },
     "execution_count": 82,
     "metadata": {},
     "output_type": "execute_result"
    }
   ],
   "source": [
    "token"
   ]
  },
  {
   "cell_type": "code",
   "execution_count": 83,
   "id": "0bdd651f-a46b-49fe-8640-b20de7614bab",
   "metadata": {},
   "outputs": [],
   "source": [
    "sp = spotipy.Spotify(auth=token)"
   ]
  },
  {
   "cell_type": "code",
   "execution_count": 84,
   "id": "1edeea59-9dd7-4ab9-82fd-7634d8ae29f4",
   "metadata": {
    "scrolled": true
   },
   "outputs": [
    {
     "name": "stdout",
     "output_type": "stream",
     "text": [
      "Doggo Playlist: [{'album': {'album_type': 'album', 'artists': [{'external_urls': {'spotify': 'https://open.spotify.com/artist/3gdbcIdNypBsYNu3iiCjtN'}, 'href': 'https://api.spotify.com/v1/artists/3gdbcIdNypBsYNu3iiCjtN', 'id': '3gdbcIdNypBsYNu3iiCjtN', 'name': \"The B-52's\", 'type': 'artist', 'uri': 'spotify:artist:3gdbcIdNypBsYNu3iiCjtN'}], 'available_markets': ['AD', 'AT', 'BE', 'CW', 'DE', 'DK', 'ES', 'FI', 'FR', 'GB', 'IE', 'IT', 'JP', 'LI', 'LU', 'NL', 'NO', 'PT', 'SE', 'SM'], 'external_urls': {'spotify': 'https://open.spotify.com/album/4VcKXOCUzcrxltYt0Jyqfk'}, 'href': 'https://api.spotify.com/v1/albums/4VcKXOCUzcrxltYt0Jyqfk', 'id': '4VcKXOCUzcrxltYt0Jyqfk', 'images': [{'height': 640, 'url': 'https://i.scdn.co/image/ab67616d0000b273c93cd25cc5a8ceb7674f9c1a', 'width': 640}, {'height': 300, 'url': 'https://i.scdn.co/image/ab67616d00001e02c93cd25cc5a8ceb7674f9c1a', 'width': 300}, {'height': 64, 'url': 'https://i.scdn.co/image/ab67616d00004851c93cd25cc5a8ceb7674f9c1a', 'width': 64}], 'name': \"B-52's\", 'release_date': '1979-01-01', 'release_date_precision': 'day', 'total_tracks': 9, 'type': 'album', 'uri': 'spotify:album:4VcKXOCUzcrxltYt0Jyqfk'}, 'artists': [{'external_urls': {'spotify': 'https://open.spotify.com/artist/3gdbcIdNypBsYNu3iiCjtN'}, 'href': 'https://api.spotify.com/v1/artists/3gdbcIdNypBsYNu3iiCjtN', 'id': '3gdbcIdNypBsYNu3iiCjtN', 'name': \"The B-52's\", 'type': 'artist', 'uri': 'spotify:artist:3gdbcIdNypBsYNu3iiCjtN'}], 'available_markets': ['AD', 'AT', 'BE', 'CW', 'DE', 'DK', 'ES', 'FI', 'FR', 'GB', 'IE', 'IT', 'JP', 'LI', 'LU', 'NL', 'NO', 'PT', 'SE', 'SM'], 'disc_number': 1, 'duration_ms': 412032, 'explicit': False, 'external_ids': {'isrc': 'USIR27900014'}, 'external_urls': {'spotify': 'https://open.spotify.com/track/0rme3FLbw5o1KLXpJzivjS'}, 'href': 'https://api.spotify.com/v1/tracks/0rme3FLbw5o1KLXpJzivjS', 'id': '0rme3FLbw5o1KLXpJzivjS', 'is_local': False, 'name': 'Rock Lobster', 'popularity': 49, 'preview_url': None, 'track_number': 4, 'type': 'track', 'uri': 'spotify:track:0rme3FLbw5o1KLXpJzivjS'}, {'album': {'album_type': 'album', 'artists': [{'external_urls': {'spotify': 'https://open.spotify.com/artist/6FBDaR13swtiWwGhX1WQsP'}, 'href': 'https://api.spotify.com/v1/artists/6FBDaR13swtiWwGhX1WQsP', 'id': '6FBDaR13swtiWwGhX1WQsP', 'name': 'blink-182', 'type': 'artist', 'uri': 'spotify:artist:6FBDaR13swtiWwGhX1WQsP'}], 'available_markets': ['AR', 'AU', 'AT', 'BE', 'BO', 'BR', 'BG', 'CA', 'CL', 'CO', 'CR', 'CY', 'CZ', 'DK', 'DO', 'DE', 'EC', 'EE', 'SV', 'FI', 'FR', 'GR', 'GT', 'HN', 'HK', 'HU', 'IS', 'IE', 'IT', 'LV', 'LT', 'LU', 'MY', 'MT', 'MX', 'NL', 'NZ', 'NI', 'NO', 'PA', 'PY', 'PE', 'PH', 'PL', 'PT', 'SG', 'SK', 'ES', 'SE', 'CH', 'TW', 'TR', 'UY', 'US', 'GB', 'AD', 'LI', 'MC', 'ID', 'JP', 'TH', 'VN', 'RO', 'IL', 'ZA', 'SA', 'AE', 'BH', 'QA', 'OM', 'KW', 'EG', 'MA', 'DZ', 'TN', 'LB', 'JO', 'PS', 'IN', 'BY', 'KZ', 'MD', 'UA', 'AL', 'BA', 'HR', 'ME', 'MK', 'RS', 'SI', 'KR', 'BD', 'PK', 'LK', 'GH', 'KE', 'NG', 'TZ', 'UG', 'AG', 'AM', 'BS', 'BB', 'BZ', 'BT', 'BW', 'BF', 'CV', 'CW', 'DM', 'FJ', 'GM', 'GE', 'GD', 'GW', 'GY', 'HT', 'JM', 'KI', 'LS', 'LR', 'MW', 'MV', 'ML', 'MH', 'FM', 'NA', 'NR', 'NE', 'PW', 'PG', 'WS', 'SM', 'ST', 'SN', 'SC', 'SL', 'SB', 'KN', 'LC', 'VC', 'SR', 'TL', 'TO', 'TT', 'TV', 'VU', 'AZ', 'BN', 'BI', 'KH', 'CM', 'TD', 'KM', 'GQ', 'SZ', 'GA', 'GN', 'KG', 'LA', 'MO', 'MR', 'MN', 'NP', 'RW', 'TG', 'UZ', 'ZW', 'BJ', 'MG', 'MU', 'MZ', 'AO', 'CI', 'DJ', 'ZM', 'CD', 'CG', 'IQ', 'LY', 'TJ', 'VE', 'ET', 'XK'], 'external_urls': {'spotify': 'https://open.spotify.com/album/3nHpBmW5wJXGeC3ojBkpey'}, 'href': 'https://api.spotify.com/v1/albums/3nHpBmW5wJXGeC3ojBkpey', 'id': '3nHpBmW5wJXGeC3ojBkpey', 'images': [{'height': 640, 'url': 'https://i.scdn.co/image/ab67616d0000b27354a8f4f9158546472fbb7280', 'width': 640}, {'height': 300, 'url': 'https://i.scdn.co/image/ab67616d00001e0254a8f4f9158546472fbb7280', 'width': 300}, {'height': 64, 'url': 'https://i.scdn.co/image/ab67616d0000485154a8f4f9158546472fbb7280', 'width': 64}], 'name': 'Take Off Your Pants And Jacket', 'release_date': '2001', 'release_date_precision': 'year', 'total_tracks': 13, 'type': 'album', 'uri': 'spotify:album:3nHpBmW5wJXGeC3ojBkpey'}, 'artists': [{'external_urls': {'spotify': 'https://open.spotify.com/artist/6FBDaR13swtiWwGhX1WQsP'}, 'href': 'https://api.spotify.com/v1/artists/6FBDaR13swtiWwGhX1WQsP', 'id': '6FBDaR13swtiWwGhX1WQsP', 'name': 'blink-182', 'type': 'artist', 'uri': 'spotify:artist:6FBDaR13swtiWwGhX1WQsP'}], 'available_markets': ['AR', 'AU', 'AT', 'BE', 'BO', 'BR', 'BG', 'CA', 'CL', 'CO', 'CR', 'CY', 'CZ', 'DK', 'DO', 'DE', 'EC', 'EE', 'SV', 'FI', 'FR', 'GR', 'GT', 'HN', 'HK', 'HU', 'IS', 'IE', 'IT', 'LV', 'LT', 'LU', 'MY', 'MT', 'MX', 'NL', 'NZ', 'NI', 'NO', 'PA', 'PY', 'PE', 'PH', 'PL', 'PT', 'SG', 'SK', 'ES', 'SE', 'CH', 'TW', 'TR', 'UY', 'US', 'GB', 'AD', 'LI', 'MC', 'ID', 'JP', 'TH', 'VN', 'RO', 'IL', 'ZA', 'SA', 'AE', 'BH', 'QA', 'OM', 'KW', 'EG', 'MA', 'DZ', 'TN', 'LB', 'JO', 'PS', 'IN', 'BY', 'KZ', 'MD', 'UA', 'AL', 'BA', 'HR', 'ME', 'MK', 'RS', 'SI', 'KR', 'BD', 'PK', 'LK', 'GH', 'KE', 'NG', 'TZ', 'UG', 'AG', 'AM', 'BS', 'BB', 'BZ', 'BT', 'BW', 'BF', 'CV', 'CW', 'DM', 'FJ', 'GM', 'GE', 'GD', 'GW', 'GY', 'HT', 'JM', 'KI', 'LS', 'LR', 'MW', 'MV', 'ML', 'MH', 'FM', 'NA', 'NR', 'NE', 'PW', 'PG', 'WS', 'SM', 'ST', 'SN', 'SC', 'SL', 'SB', 'KN', 'LC', 'VC', 'SR', 'TL', 'TO', 'TT', 'TV', 'VU', 'AZ', 'BN', 'BI', 'KH', 'CM', 'TD', 'KM', 'GQ', 'SZ', 'GA', 'GN', 'KG', 'LA', 'MO', 'MR', 'MN', 'NP', 'RW', 'TG', 'UZ', 'ZW', 'BJ', 'MG', 'MU', 'MZ', 'AO', 'CI', 'DJ', 'ZM', 'CD', 'CG', 'IQ', 'LY', 'TJ', 'VE', 'ET', 'XK'], 'disc_number': 1, 'duration_ms': 171600, 'explicit': True, 'external_ids': {'isrc': 'USMC10110768'}, 'external_urls': {'spotify': 'https://open.spotify.com/track/2ydUT1pFhuLDnouelIv4WH'}, 'href': 'https://api.spotify.com/v1/tracks/2ydUT1pFhuLDnouelIv4WH', 'id': '2ydUT1pFhuLDnouelIv4WH', 'is_local': False, 'name': 'The Rock Show', 'popularity': 69, 'preview_url': None, 'track_number': 6, 'type': 'track', 'uri': 'spotify:track:2ydUT1pFhuLDnouelIv4WH'}, {'album': {'album_type': 'album', 'artists': [{'external_urls': {'spotify': 'https://open.spotify.com/artist/1Fmb52lZ6Jv7FMWXXTPO3K'}, 'href': 'https://api.spotify.com/v1/artists/1Fmb52lZ6Jv7FMWXXTPO3K', 'id': '1Fmb52lZ6Jv7FMWXXTPO3K', 'name': 'Joan Jett & the Blackhearts', 'type': 'artist', 'uri': 'spotify:artist:1Fmb52lZ6Jv7FMWXXTPO3K'}], 'available_markets': ['AR', 'AU', 'AT', 'BE', 'BO', 'BR', 'BG', 'CA', 'CL', 'CO', 'CR', 'CY', 'CZ', 'DK', 'DO', 'DE', 'EC', 'EE', 'SV', 'FI', 'FR', 'GR', 'GT', 'HN', 'HK', 'HU', 'IS', 'IE', 'IT', 'LV', 'LT', 'LU', 'MY', 'MT', 'MX', 'NL', 'NZ', 'NI', 'NO', 'PA', 'PY', 'PE', 'PH', 'PL', 'PT', 'SG', 'SK', 'ES', 'SE', 'CH', 'TW', 'TR', 'UY', 'US', 'GB', 'AD', 'LI', 'MC', 'ID', 'JP', 'TH', 'VN', 'RO', 'IL', 'ZA', 'SA', 'AE', 'BH', 'QA', 'OM', 'KW', 'EG', 'MA', 'DZ', 'TN', 'LB', 'JO', 'PS', 'IN', 'BY', 'KZ', 'MD', 'UA', 'AL', 'BA', 'HR', 'ME', 'MK', 'RS', 'SI', 'KR', 'BD', 'PK', 'LK', 'GH', 'KE', 'NG', 'TZ', 'UG', 'AG', 'AM', 'BS', 'BB', 'BZ', 'BT', 'BW', 'BF', 'CV', 'CW', 'DM', 'FJ', 'GM', 'GE', 'GD', 'GW', 'GY', 'HT', 'JM', 'KI', 'LS', 'LR', 'MW', 'MV', 'ML', 'MH', 'FM', 'NA', 'NR', 'NE', 'PW', 'PG', 'PR', 'WS', 'SM', 'ST', 'SN', 'SC', 'SL', 'SB', 'KN', 'LC', 'VC', 'SR', 'TL', 'TO', 'TT', 'TV', 'VU', 'AZ', 'BN', 'BI', 'KH', 'CM', 'TD', 'KM', 'GQ', 'SZ', 'GA', 'GN', 'KG', 'LA', 'MO', 'MR', 'MN', 'NP', 'RW', 'TG', 'UZ', 'ZW', 'BJ', 'MG', 'MU', 'MZ', 'AO', 'CI', 'DJ', 'ZM', 'CD', 'CG', 'IQ', 'LY', 'TJ', 'VE', 'ET', 'XK'], 'external_urls': {'spotify': 'https://open.spotify.com/album/555qwe1qUgLdee80TZ2CQt'}, 'href': 'https://api.spotify.com/v1/albums/555qwe1qUgLdee80TZ2CQt', 'id': '555qwe1qUgLdee80TZ2CQt', 'images': [{'height': 640, 'url': 'https://i.scdn.co/image/ab67616d0000b2733c73b2e0a6aa490736f19751', 'width': 640}, {'height': 300, 'url': 'https://i.scdn.co/image/ab67616d00001e023c73b2e0a6aa490736f19751', 'width': 300}, {'height': 64, 'url': 'https://i.scdn.co/image/ab67616d000048513c73b2e0a6aa490736f19751', 'width': 64}], 'name': \"I Love Rock 'N' Roll (Expanded Edition)\", 'release_date': '1981-11-18', 'release_date_precision': 'day', 'total_tracks': 15, 'type': 'album', 'uri': 'spotify:album:555qwe1qUgLdee80TZ2CQt'}, 'artists': [{'external_urls': {'spotify': 'https://open.spotify.com/artist/1Fmb52lZ6Jv7FMWXXTPO3K'}, 'href': 'https://api.spotify.com/v1/artists/1Fmb52lZ6Jv7FMWXXTPO3K', 'id': '1Fmb52lZ6Jv7FMWXXTPO3K', 'name': 'Joan Jett & the Blackhearts', 'type': 'artist', 'uri': 'spotify:artist:1Fmb52lZ6Jv7FMWXXTPO3K'}], 'available_markets': ['AR', 'AU', 'AT', 'BE', 'BO', 'BR', 'BG', 'CA', 'CL', 'CO', 'CR', 'CY', 'CZ', 'DK', 'DO', 'DE', 'EC', 'EE', 'SV', 'FI', 'FR', 'GR', 'GT', 'HN', 'HK', 'HU', 'IS', 'IE', 'IT', 'LV', 'LT', 'LU', 'MY', 'MT', 'MX', 'NL', 'NZ', 'NI', 'NO', 'PA', 'PY', 'PE', 'PH', 'PL', 'PT', 'SG', 'SK', 'ES', 'SE', 'CH', 'TW', 'TR', 'UY', 'US', 'GB', 'AD', 'LI', 'MC', 'ID', 'JP', 'TH', 'VN', 'RO', 'IL', 'ZA', 'SA', 'AE', 'BH', 'QA', 'OM', 'KW', 'EG', 'MA', 'DZ', 'TN', 'LB', 'JO', 'PS', 'IN', 'BY', 'KZ', 'MD', 'UA', 'AL', 'BA', 'HR', 'ME', 'MK', 'RS', 'SI', 'KR', 'BD', 'PK', 'LK', 'GH', 'KE', 'NG', 'TZ', 'UG', 'AG', 'AM', 'BS', 'BB', 'BZ', 'BT', 'BW', 'BF', 'CV', 'CW', 'DM', 'FJ', 'GM', 'GE', 'GD', 'GW', 'GY', 'HT', 'JM', 'KI', 'LS', 'LR', 'MW', 'MV', 'ML', 'MH', 'FM', 'NA', 'NR', 'NE', 'PW', 'PG', 'PR', 'WS', 'SM', 'ST', 'SN', 'SC', 'SL', 'SB', 'KN', 'LC', 'VC', 'SR', 'TL', 'TO', 'TT', 'TV', 'VU', 'AZ', 'BN', 'BI', 'KH', 'CM', 'TD', 'KM', 'GQ', 'SZ', 'GA', 'GN', 'KG', 'LA', 'MO', 'MR', 'MN', 'NP', 'RW', 'TG', 'UZ', 'ZW', 'BJ', 'MG', 'MU', 'MZ', 'AO', 'CI', 'DJ', 'ZM', 'CD', 'CG', 'IQ', 'LY', 'TJ', 'VE', 'ET', 'XK'], 'disc_number': 1, 'duration_ms': 175173, 'explicit': False, 'external_ids': {'isrc': 'USBH18100118'}, 'external_urls': {'spotify': 'https://open.spotify.com/track/2Cdvbe2G4hZsnhNMKyGrie'}, 'href': 'https://api.spotify.com/v1/tracks/2Cdvbe2G4hZsnhNMKyGrie', 'id': '2Cdvbe2G4hZsnhNMKyGrie', 'is_local': False, 'name': \"I Love Rock 'N Roll\", 'popularity': 77, 'preview_url': 'https://p.scdn.co/mp3-preview/931dee7b6bcc7c60edc631ff1892e363a47fe222?cid=7989ce71ea6c47188923f95f8fd5afa9', 'track_number': 1, 'type': 'track', 'uri': 'spotify:track:2Cdvbe2G4hZsnhNMKyGrie'}, {'album': {'album_type': 'album', 'artists': [{'external_urls': {'spotify': 'https://open.spotify.com/artist/4BntNFyiN3VGG4hhRRZt9d'}, 'href': 'https://api.spotify.com/v1/artists/4BntNFyiN3VGG4hhRRZt9d', 'id': '4BntNFyiN3VGG4hhRRZt9d', 'name': 'The Subways', 'type': 'artist', 'uri': 'spotify:artist:4BntNFyiN3VGG4hhRRZt9d'}], 'available_markets': ['AR', 'AU', 'AT', 'BE', 'BO', 'BR', 'BG', 'CA', 'CL', 'CO', 'CR', 'CY', 'CZ', 'DK', 'DO', 'DE', 'EC', 'EE', 'SV', 'FI', 'FR', 'GR', 'GT', 'HN', 'HK', 'HU', 'IS', 'IE', 'IT', 'LV', 'LT', 'LU', 'MY', 'MT', 'MX', 'NL', 'NZ', 'NI', 'NO', 'PA', 'PY', 'PE', 'PH', 'PL', 'PT', 'SG', 'SK', 'ES', 'SE', 'CH', 'TW', 'TR', 'UY', 'US', 'GB', 'AD', 'LI', 'MC', 'ID', 'JP', 'TH', 'VN', 'RO', 'IL', 'ZA', 'SA', 'AE', 'BH', 'QA', 'OM', 'KW', 'EG', 'MA', 'DZ', 'TN', 'LB', 'JO', 'PS', 'IN', 'BY', 'KZ', 'MD', 'UA', 'AL', 'BA', 'HR', 'ME', 'MK', 'RS', 'SI', 'KR', 'BD', 'PK', 'LK', 'GH', 'KE', 'NG', 'TZ', 'UG', 'AG', 'AM', 'BS', 'BB', 'BZ', 'BT', 'BW', 'BF', 'CV', 'CW', 'DM', 'FJ', 'GM', 'GE', 'GD', 'GW', 'GY', 'HT', 'JM', 'KI', 'LS', 'LR', 'MW', 'MV', 'ML', 'MH', 'FM', 'NA', 'NR', 'NE', 'PW', 'PG', 'PR', 'WS', 'SM', 'ST', 'SN', 'SC', 'SL', 'SB', 'KN', 'LC', 'VC', 'SR', 'TL', 'TO', 'TT', 'TV', 'VU', 'AZ', 'BN', 'BI', 'KH', 'CM', 'TD', 'KM', 'GQ', 'SZ', 'GA', 'GN', 'KG', 'LA', 'MO', 'MR', 'MN', 'NP', 'RW', 'TG', 'UZ', 'ZW', 'BJ', 'MG', 'MU', 'MZ', 'AO', 'CI', 'DJ', 'ZM', 'CD', 'CG', 'IQ', 'LY', 'TJ', 'VE', 'ET', 'XK'], 'external_urls': {'spotify': 'https://open.spotify.com/album/5tTubYK1AQxmixhWcwG5OR'}, 'href': 'https://api.spotify.com/v1/albums/5tTubYK1AQxmixhWcwG5OR', 'id': '5tTubYK1AQxmixhWcwG5OR', 'images': [{'height': 640, 'url': 'https://i.scdn.co/image/ab67616d0000b273804c1545f41af3ee5695631c', 'width': 640}, {'height': 300, 'url': 'https://i.scdn.co/image/ab67616d00001e02804c1545f41af3ee5695631c', 'width': 300}, {'height': 64, 'url': 'https://i.scdn.co/image/ab67616d00004851804c1545f41af3ee5695631c', 'width': 64}], 'name': 'Young for Eternity', 'release_date': '2005-07-04', 'release_date_precision': 'day', 'total_tracks': 13, 'type': 'album', 'uri': 'spotify:album:5tTubYK1AQxmixhWcwG5OR'}, 'artists': [{'external_urls': {'spotify': 'https://open.spotify.com/artist/4BntNFyiN3VGG4hhRRZt9d'}, 'href': 'https://api.spotify.com/v1/artists/4BntNFyiN3VGG4hhRRZt9d', 'id': '4BntNFyiN3VGG4hhRRZt9d', 'name': 'The Subways', 'type': 'artist', 'uri': 'spotify:artist:4BntNFyiN3VGG4hhRRZt9d'}], 'available_markets': ['AR', 'AU', 'AT', 'BE', 'BO', 'BR', 'BG', 'CA', 'CL', 'CO', 'CR', 'CY', 'CZ', 'DK', 'DO', 'DE', 'EC', 'EE', 'SV', 'FI', 'FR', 'GR', 'GT', 'HN', 'HK', 'HU', 'IS', 'IE', 'IT', 'LV', 'LT', 'LU', 'MY', 'MT', 'MX', 'NL', 'NZ', 'NI', 'NO', 'PA', 'PY', 'PE', 'PH', 'PL', 'PT', 'SG', 'SK', 'ES', 'SE', 'CH', 'TW', 'TR', 'UY', 'US', 'GB', 'AD', 'LI', 'MC', 'ID', 'JP', 'TH', 'VN', 'RO', 'IL', 'ZA', 'SA', 'AE', 'BH', 'QA', 'OM', 'KW', 'EG', 'MA', 'DZ', 'TN', 'LB', 'JO', 'PS', 'IN', 'BY', 'KZ', 'MD', 'UA', 'AL', 'BA', 'HR', 'ME', 'MK', 'RS', 'SI', 'KR', 'BD', 'PK', 'LK', 'GH', 'KE', 'NG', 'TZ', 'UG', 'AG', 'AM', 'BS', 'BB', 'BZ', 'BT', 'BW', 'BF', 'CV', 'CW', 'DM', 'FJ', 'GM', 'GE', 'GD', 'GW', 'GY', 'HT', 'JM', 'KI', 'LS', 'LR', 'MW', 'MV', 'ML', 'MH', 'FM', 'NA', 'NR', 'NE', 'PW', 'PG', 'PR', 'WS', 'SM', 'ST', 'SN', 'SC', 'SL', 'SB', 'KN', 'LC', 'VC', 'SR', 'TL', 'TO', 'TT', 'TV', 'VU', 'AZ', 'BN', 'BI', 'KH', 'CM', 'TD', 'KM', 'GQ', 'SZ', 'GA', 'GN', 'KG', 'LA', 'MO', 'MR', 'MN', 'NP', 'RW', 'TG', 'UZ', 'ZW', 'BJ', 'MG', 'MU', 'MZ', 'AO', 'CI', 'DJ', 'ZM', 'CD', 'CG', 'IQ', 'LY', 'TJ', 'VE', 'ET', 'XK'], 'disc_number': 1, 'duration_ms': 169946, 'explicit': False, 'external_ids': {'isrc': 'GBAHT0500214'}, 'external_urls': {'spotify': 'https://open.spotify.com/track/3CLmZAW1fgpnRyVwUx4bbZ'}, 'href': 'https://api.spotify.com/v1/tracks/3CLmZAW1fgpnRyVwUx4bbZ', 'id': '3CLmZAW1fgpnRyVwUx4bbZ', 'is_local': False, 'name': 'Rock & Roll Queen', 'popularity': 57, 'preview_url': 'https://p.scdn.co/mp3-preview/891d5969e4c2d90d439c4bd50859c250e5bcd4b2?cid=7989ce71ea6c47188923f95f8fd5afa9', 'track_number': 3, 'type': 'track', 'uri': 'spotify:track:3CLmZAW1fgpnRyVwUx4bbZ'}, {'album': {'album_type': 'single', 'artists': [{'external_urls': {'spotify': 'https://open.spotify.com/artist/3SXwqSqAoBz9WCI9PDQzY6'}, 'href': 'https://api.spotify.com/v1/artists/3SXwqSqAoBz9WCI9PDQzY6', 'id': '3SXwqSqAoBz9WCI9PDQzY6', 'name': 'Fontaines D.C.', 'type': 'artist', 'uri': 'spotify:artist:3SXwqSqAoBz9WCI9PDQzY6'}], 'available_markets': ['AR', 'AU', 'AT', 'BE', 'BO', 'BR', 'BG', 'CA', 'CL', 'CO', 'CR', 'CY', 'CZ', 'DK', 'DO', 'DE', 'EC', 'EE', 'SV', 'FI', 'FR', 'GR', 'GT', 'HN', 'HK', 'HU', 'IS', 'IE', 'IT', 'LV', 'LT', 'LU', 'MY', 'MT', 'MX', 'NL', 'NZ', 'NI', 'NO', 'PA', 'PY', 'PE', 'PH', 'PL', 'PT', 'SG', 'SK', 'ES', 'SE', 'CH', 'TW', 'TR', 'UY', 'US', 'GB', 'AD', 'LI', 'MC', 'ID', 'JP', 'TH', 'VN', 'RO', 'IL', 'ZA', 'SA', 'AE', 'BH', 'QA', 'OM', 'KW', 'EG', 'MA', 'DZ', 'TN', 'LB', 'JO', 'PS', 'IN', 'BY', 'KZ', 'MD', 'UA', 'AL', 'BA', 'HR', 'ME', 'MK', 'RS', 'SI', 'KR', 'BD', 'PK', 'LK', 'GH', 'KE', 'NG', 'TZ', 'UG', 'AG', 'AM', 'BS', 'BB', 'BZ', 'BT', 'BW', 'BF', 'CV', 'CW', 'DM', 'FJ', 'GM', 'GE', 'GD', 'GW', 'GY', 'HT', 'JM', 'KI', 'LS', 'LR', 'MW', 'MV', 'ML', 'MH', 'FM', 'NA', 'NR', 'NE', 'PW', 'PG', 'PR', 'WS', 'SM', 'ST', 'SN', 'SC', 'SL', 'SB', 'KN', 'LC', 'VC', 'SR', 'TL', 'TO', 'TT', 'TV', 'VU', 'AZ', 'BN', 'BI', 'KH', 'CM', 'TD', 'KM', 'GQ', 'SZ', 'GA', 'GN', 'KG', 'LA', 'MO', 'MR', 'MN', 'NP', 'RW', 'TG', 'UZ', 'ZW', 'BJ', 'MG', 'MU', 'MZ', 'AO', 'CI', 'DJ', 'ZM', 'CD', 'CG', 'IQ', 'LY', 'TJ', 'VE', 'ET', 'XK'], 'external_urls': {'spotify': 'https://open.spotify.com/album/4D322iSFhNbMWyuaJMJLG5'}, 'href': 'https://api.spotify.com/v1/albums/4D322iSFhNbMWyuaJMJLG5', 'id': '4D322iSFhNbMWyuaJMJLG5', 'images': [{'height': 640, 'url': 'https://i.scdn.co/image/ab67616d0000b27352e8b93eafc34996eabafdcc', 'width': 640}, {'height': 300, 'url': 'https://i.scdn.co/image/ab67616d00001e0252e8b93eafc34996eabafdcc', 'width': 300}, {'height': 64, 'url': 'https://i.scdn.co/image/ab67616d0000485152e8b93eafc34996eabafdcc', 'width': 64}], 'name': 'Liberty Belle', 'release_date': '2018-08-20', 'release_date_precision': 'day', 'total_tracks': 2, 'type': 'album', 'uri': 'spotify:album:4D322iSFhNbMWyuaJMJLG5'}, 'artists': [{'external_urls': {'spotify': 'https://open.spotify.com/artist/3SXwqSqAoBz9WCI9PDQzY6'}, 'href': 'https://api.spotify.com/v1/artists/3SXwqSqAoBz9WCI9PDQzY6', 'id': '3SXwqSqAoBz9WCI9PDQzY6', 'name': 'Fontaines D.C.', 'type': 'artist', 'uri': 'spotify:artist:3SXwqSqAoBz9WCI9PDQzY6'}], 'available_markets': ['AR', 'AU', 'AT', 'BE', 'BO', 'BR', 'BG', 'CA', 'CL', 'CO', 'CR', 'CY', 'CZ', 'DK', 'DO', 'DE', 'EC', 'EE', 'SV', 'FI', 'FR', 'GR', 'GT', 'HN', 'HK', 'HU', 'IS', 'IE', 'IT', 'LV', 'LT', 'LU', 'MY', 'MT', 'MX', 'NL', 'NZ', 'NI', 'NO', 'PA', 'PY', 'PE', 'PH', 'PL', 'PT', 'SG', 'SK', 'ES', 'SE', 'CH', 'TW', 'TR', 'UY', 'US', 'GB', 'AD', 'LI', 'MC', 'ID', 'JP', 'TH', 'VN', 'RO', 'IL', 'ZA', 'SA', 'AE', 'BH', 'QA', 'OM', 'KW', 'EG', 'MA', 'DZ', 'TN', 'LB', 'JO', 'PS', 'IN', 'BY', 'KZ', 'MD', 'UA', 'AL', 'BA', 'HR', 'ME', 'MK', 'RS', 'SI', 'KR', 'BD', 'PK', 'LK', 'GH', 'KE', 'NG', 'TZ', 'UG', 'AG', 'AM', 'BS', 'BB', 'BZ', 'BT', 'BW', 'BF', 'CV', 'CW', 'DM', 'FJ', 'GM', 'GE', 'GD', 'GW', 'GY', 'HT', 'JM', 'KI', 'LS', 'LR', 'MW', 'MV', 'ML', 'MH', 'FM', 'NA', 'NR', 'NE', 'PW', 'PG', 'PR', 'WS', 'SM', 'ST', 'SN', 'SC', 'SL', 'SB', 'KN', 'LC', 'VC', 'SR', 'TL', 'TO', 'TT', 'TV', 'VU', 'AZ', 'BN', 'BI', 'KH', 'CM', 'TD', 'KM', 'GQ', 'SZ', 'GA', 'GN', 'KG', 'LA', 'MO', 'MR', 'MN', 'NP', 'RW', 'TG', 'UZ', 'ZW', 'BJ', 'MG', 'MU', 'MZ', 'AO', 'CI', 'DJ', 'ZM', 'CD', 'CG', 'IQ', 'LY', 'TJ', 'VE', 'ET', 'XK'], 'disc_number': 1, 'duration_ms': 167488, 'explicit': False, 'external_ids': {'isrc': 'IENSX1700002'}, 'external_urls': {'spotify': 'https://open.spotify.com/track/7nDShtjAtQWaM4bGoyidJx'}, 'href': 'https://api.spotify.com/v1/tracks/7nDShtjAtQWaM4bGoyidJx', 'id': '7nDShtjAtQWaM4bGoyidJx', 'is_local': False, 'name': 'Rocket To Russia - Darklands Version', 'popularity': 41, 'preview_url': 'https://p.scdn.co/mp3-preview/b6eff21b7e851e50e6de80bce9b61a900ef89085?cid=7989ce71ea6c47188923f95f8fd5afa9', 'track_number': 2, 'type': 'track', 'uri': 'spotify:track:7nDShtjAtQWaM4bGoyidJx'}]\n"
     ]
    }
   ],
   "source": [
    "breed_to_genre = {\n",
    "    \"spaniel\": \"soul\",\n",
    "    \"beagle\": \"blues\",\n",
    "    \"retriever\": \"folk\",\n",
    "    \"pointer\": \"indie\",\n",
    "    \"chihuahua\": \"reggaeton\",\n",
    "    \"dachshund\": \"jazz\",\n",
    "    \"boxer\": \"funk\",\n",
    "    \"hound\": \"blues\",\n",
    "    \"golden\": \"folk\",\n",
    "    \"cockapoo\": \"R&B\",\n",
    "    \"poodle\": \"classical\",\n",
    "    \"husky\": \"rock\",\n",
    "    \"corgi\": \"pop punk\",\n",
    "    \"labrador\": \"country\",\n",
    "    \"germanshepherd\": \"hip-hop\",\n",
    "    \"labradoodle\": \"pop\",\n",
    "    \"schnauzer\": \"indie rock\",\n",
    "    \"mountain\": \"folk rock\",\n",
    "    \"terrier\": \"punk rock\",\n",
    "}\n",
    "\n",
    "genre = breed_to_genre.get(breed.lower())\n",
    "doggo_playlist = []\n",
    "\n",
    "\n",
    "if genre:\n",
    "    returned_song = sp.search(q=f\"genre:{genre}\", type=\"track\", limit=5)\n",
    "    doggo_playlist.extend(returned_song['tracks']['items'])\n",
    "else:\n",
    "    print(\"No genre found for this breed\")\n",
    "\n",
    "print(\"Doggo Playlist:\", doggo_playlist)"
   ]
  },
  {
   "cell_type": "code",
   "execution_count": 85,
   "id": "a7ff1b70-3661-45e8-9423-d4b12dbd62c1",
   "metadata": {},
   "outputs": [
    {
     "data": {
      "text/plain": [
       "5"
      ]
     },
     "execution_count": 85,
     "metadata": {},
     "output_type": "execute_result"
    }
   ],
   "source": [
    "len(doggo_playlist)"
   ]
  },
  {
   "cell_type": "code",
   "execution_count": 86,
   "id": "b5be2c2c-3ecf-474c-a0f9-85c1331a222f",
   "metadata": {},
   "outputs": [
    {
     "data": {
      "text/plain": [
       "dict_keys(['album', 'artists', 'available_markets', 'disc_number', 'duration_ms', 'explicit', 'external_ids', 'external_urls', 'href', 'id', 'is_local', 'name', 'popularity', 'preview_url', 'track_number', 'type', 'uri'])"
      ]
     },
     "execution_count": 86,
     "metadata": {},
     "output_type": "execute_result"
    }
   ],
   "source": [
    "doggo_playlist[0].keys()"
   ]
  },
  {
   "cell_type": "markdown",
   "id": "9f6a0ca9-b4a7-495d-8f65-d844dbe0e058",
   "metadata": {},
   "source": [
    "doggo_playlist = [{}, {}, {} ,{}]"
   ]
  },
  {
   "cell_type": "code",
   "execution_count": 87,
   "id": "e4042a18-f66b-4b6a-952f-e8c439387065",
   "metadata": {},
   "outputs": [],
   "source": [
    "doggo_song_ids = [d['id'] for d in doggo_playlist]\n",
    "#doggo_song_genres = ["
   ]
  },
  {
   "cell_type": "code",
   "execution_count": 88,
   "id": "b7067ad0-8f80-4075-82f7-07d7b227df75",
   "metadata": {
    "scrolled": true
   },
   "outputs": [
    {
     "data": {
      "text/plain": [
       "['0rme3FLbw5o1KLXpJzivjS',\n",
       " '2ydUT1pFhuLDnouelIv4WH',\n",
       " '2Cdvbe2G4hZsnhNMKyGrie',\n",
       " '3CLmZAW1fgpnRyVwUx4bbZ',\n",
       " '7nDShtjAtQWaM4bGoyidJx']"
      ]
     },
     "execution_count": 88,
     "metadata": {},
     "output_type": "execute_result"
    }
   ],
   "source": [
    "doggo_song_ids"
   ]
  },
  {
   "cell_type": "code",
   "execution_count": 89,
   "id": "52c3b1d7-9058-40f3-966d-512a90d12ae8",
   "metadata": {},
   "outputs": [],
   "source": [
    "cover_img = base64.b64encode(urlopen(img_of_dog).read())"
   ]
  },
  {
   "cell_type": "code",
   "execution_count": 90,
   "id": "585b0009-afd4-4a74-82c3-dad4f5ea8b00",
   "metadata": {},
   "outputs": [],
   "source": [
    "sp_oauth_credentials = SpotifyOAuth(\n",
    "    client_id = api_tokens[\"client_id\"],\n",
    "    client_secret = api_tokens[\"client_secret\"],\n",
    "    redirect_uri = api_tokens[\"redirect\"],\n",
    "    scope=\"playlist-modify-public ugc-image-upload\"\n",
    ")\n",
    "\n",
    "sp = spotipy.Spotify(auth_manager=sp_oauth)"
   ]
  },
  {
   "cell_type": "code",
   "execution_count": 99,
   "id": "96e77a48-6f4e-4b22-9c5f-015fb9e973c7",
   "metadata": {},
   "outputs": [
    {
     "name": "stdout",
     "output_type": "stream",
     "text": [
      "{'snapshot_id': 'AAAAA3REqFYZ8h/Pon7KEgolzC+6ZxX6'}\n"
     ]
    }
   ],
   "source": [
    "my_playlist = sp.user_playlist_create(user=username, name= breed.upper() + \"'s Playlist \", public=True, description=\"Songs for the dogs\")\n",
    "\n",
    "sp.playlist_upload_cover_image(my_playlist['id'], cover_img)\n",
    "\n",
    "results = sp.user_playlist_add_tracks(username, my_playlist['id'], doggo_song_ids)\n",
    "\n",
    "print(results)"
   ]
  },
  {
   "cell_type": "code",
   "execution_count": 101,
   "id": "3f0aaebc-897b-4940-a173-189bdafc3d23",
   "metadata": {},
   "outputs": [
    {
     "data": {
      "text/plain": [
       "True"
      ]
     },
     "execution_count": 101,
     "metadata": {},
     "output_type": "execute_result"
    }
   ],
   "source": [
    "webbrowser.open(my_playlist['external_urls']['spotify'])"
   ]
  },
  {
   "cell_type": "code",
   "execution_count": null,
   "id": "11009cb1-2108-4f01-b1b9-edc2c9d56892",
   "metadata": {},
   "outputs": [],
   "source": []
  }
 ],
 "metadata": {
  "kernelspec": {
   "display_name": "Python 3 (ipykernel)",
   "language": "python",
   "name": "python3"
  },
  "language_info": {
   "codemirror_mode": {
    "name": "ipython",
    "version": 3
   },
   "file_extension": ".py",
   "mimetype": "text/x-python",
   "name": "python",
   "nbconvert_exporter": "python",
   "pygments_lexer": "ipython3",
   "version": "3.12.7"
  }
 },
 "nbformat": 4,
 "nbformat_minor": 5
}
